{
  "nbformat": 4,
  "nbformat_minor": 0,
  "metadata": {
    "colab": {
      "name": "MNIST_dataset_in_TF_using_DNN.ipynb",
      "provenance": [],
      "collapsed_sections": [],
      "authorship_tag": "ABX9TyO7ehYJPNLKpNefGISzTFlR",
      "include_colab_link": true
    },
    "kernelspec": {
      "name": "python3",
      "display_name": "Python 3"
    }
  },
  "cells": [
    {
      "cell_type": "markdown",
      "metadata": {
        "id": "view-in-github",
        "colab_type": "text"
      },
      "source": [
        "<a href=\"https://colab.research.google.com/github/Surinder09/Tensorflow-specialization/blob/master/MNIST_dataset_in_TF_using_DNN.ipynb\" target=\"_parent\"><img src=\"https://colab.research.google.com/assets/colab-badge.svg\" alt=\"Open In Colab\"/></a>"
      ]
    },
    {
      "cell_type": "code",
      "metadata": {
        "id": "vI4W3LQ1TavW",
        "colab_type": "code",
        "colab": {}
      },
      "source": [
        "import tensorflow as tf\n",
        "import matplotlib.pyplot as plt\n",
        "import numpy as np"
      ],
      "execution_count": 0,
      "outputs": []
    },
    {
      "cell_type": "code",
      "metadata": {
        "id": "YxGYPpk5TrPP",
        "colab_type": "code",
        "outputId": "ba058580-6a68-44bb-d1ff-b423f998cb0e",
        "colab": {
          "base_uri": "https://localhost:8080/",
          "height": 34
        }
      },
      "source": [
        "print(tf.__version__)"
      ],
      "execution_count": 2,
      "outputs": [
        {
          "output_type": "stream",
          "text": [
            "2.2.0-rc3\n"
          ],
          "name": "stdout"
        }
      ]
    },
    {
      "cell_type": "code",
      "metadata": {
        "id": "9Hg3_O4zTxsd",
        "colab_type": "code",
        "colab": {}
      },
      "source": [
        "mnist_data=tf.keras.datasets.mnist"
      ],
      "execution_count": 0,
      "outputs": []
    },
    {
      "cell_type": "code",
      "metadata": {
        "id": "9YObxcZTT_QX",
        "colab_type": "code",
        "colab": {
          "base_uri": "https://localhost:8080/",
          "height": 51
        },
        "outputId": "8db4b93e-8c12-4b37-8090-7f9ad6583ce0"
      },
      "source": [
        "(x_train,y_train),(x_test,y_test)=mnist_data.load_data()"
      ],
      "execution_count": 4,
      "outputs": [
        {
          "output_type": "stream",
          "text": [
            "Downloading data from https://storage.googleapis.com/tensorflow/tf-keras-datasets/mnist.npz\n",
            "11493376/11490434 [==============================] - 0s 0us/step\n"
          ],
          "name": "stdout"
        }
      ]
    },
    {
      "cell_type": "code",
      "metadata": {
        "id": "_R9wh9HFUm0f",
        "colab_type": "code",
        "colab": {}
      },
      "source": [
        "x_train= x_train/255\n",
        "y_train = y_train/255"
      ],
      "execution_count": 0,
      "outputs": []
    },
    {
      "cell_type": "code",
      "metadata": {
        "id": "mzeXk9-zR4jC",
        "colab_type": "code",
        "colab": {}
      },
      "source": [
        "# creating model\n",
        "model=tf.keras.Sequential([tf.keras.layers.Flatten(input_shape=(28,28)),\n",
        "                          tf.keras.layers.Dense(256,activation=tf.nn.relu),\n",
        "                          tf.keras.layers.Dense(10,activation=tf.nn.softmax)])"
      ],
      "execution_count": 0,
      "outputs": []
    },
    {
      "cell_type": "code",
      "metadata": {
        "id": "y7-W4FS3Sscm",
        "colab_type": "code",
        "colab": {}
      },
      "source": [
        "# compile the model\n",
        "model.compile(optimizer='adam',loss= 'sparse_categorical_crossentropy',metrics=['accuracy'])"
      ],
      "execution_count": 0,
      "outputs": []
    },
    {
      "cell_type": "code",
      "metadata": {
        "id": "PWEEBmZ6TLW7",
        "colab_type": "code",
        "outputId": "5b53a6c6-46c5-40da-e28f-e10b9c87af60",
        "colab": {
          "base_uri": "https://localhost:8080/",
          "height": 204
        }
      },
      "source": [
        "#  fit the model\n",
        "model.fit(x=x_train,y=y_train,epochs=5,batch_size=16)"
      ],
      "execution_count": 8,
      "outputs": [
        {
          "output_type": "stream",
          "text": [
            "Epoch 1/5\n",
            "3750/3750 [==============================] - 9s 2ms/step - loss: 0.0012 - accuracy: 0.0987\n",
            "Epoch 2/5\n",
            "3750/3750 [==============================] - 9s 2ms/step - loss: 8.6901e-08 - accuracy: 0.0987\n",
            "Epoch 3/5\n",
            "3750/3750 [==============================] - 14s 4ms/step - loss: 1.0353e-08 - accuracy: 0.0987\n",
            "Epoch 4/5\n",
            "3750/3750 [==============================] - 10s 3ms/step - loss: 1.8279e-09 - accuracy: 0.0987\n",
            "Epoch 5/5\n",
            "3750/3750 [==============================] - 9s 2ms/step - loss: 5.0266e-10 - accuracy: 0.0987\n"
          ],
          "name": "stdout"
        },
        {
          "output_type": "execute_result",
          "data": {
            "text/plain": [
              "<tensorflow.python.keras.callbacks.History at 0x7efe20e35860>"
            ]
          },
          "metadata": {
            "tags": []
          },
          "execution_count": 8
        }
      ]
    },
    {
      "cell_type": "code",
      "metadata": {
        "id": "zI0D3C-PTj-I",
        "colab_type": "code",
        "colab": {}
      },
      "source": [
        ""
      ],
      "execution_count": 0,
      "outputs": []
    }
  ]
}