{
  "nbformat": 4,
  "nbformat_minor": 0,
  "metadata": {
    "colab": {
      "name": "Fashion_MNIST_CNN_visulaize_layers.ipynb",
      "provenance": [],
      "collapsed_sections": [],
      "authorship_tag": "ABX9TyOWwTW97XOMKYtOUYsGEibr",
      "include_colab_link": true
    },
    "kernelspec": {
      "name": "python3",
      "display_name": "Python 3"
    },
    "accelerator": "GPU"
  },
  "cells": [
    {
      "cell_type": "markdown",
      "metadata": {
        "id": "view-in-github",
        "colab_type": "text"
      },
      "source": [
        "<a href=\"https://colab.research.google.com/github/Surinder09/Tensorflow-specialization/blob/master/Fashion_MNIST_CNN_visulaize_layers.ipynb\" target=\"_parent\"><img src=\"https://colab.research.google.com/assets/colab-badge.svg\" alt=\"Open In Colab\"/></a>"
      ]
    },
    {
      "cell_type": "code",
      "metadata": {
        "id": "Hl-AK_e-BS5s",
        "colab_type": "code",
        "colab": {}
      },
      "source": [
        "import tensorflow as tf\n",
        "import matplotlib.pyplot as plt"
      ],
      "execution_count": 0,
      "outputs": []
    },
    {
      "cell_type": "code",
      "metadata": {
        "id": "8C1w4hFOCJ4G",
        "colab_type": "code",
        "outputId": "394594d7-6a24-4df0-905f-e42c5eb14911",
        "colab": {
          "base_uri": "https://localhost:8080/",
          "height": 34
        }
      },
      "source": [
        "print(tf.__version__)"
      ],
      "execution_count": 3,
      "outputs": [
        {
          "output_type": "stream",
          "text": [
            "2.2.0-rc3\n"
          ],
          "name": "stdout"
        }
      ]
    },
    {
      "cell_type": "code",
      "metadata": {
        "id": "n59K25R7CQqV",
        "colab_type": "code",
        "colab": {}
      },
      "source": [
        "load_data=tf.keras.datasets.fashion_mnist"
      ],
      "execution_count": 0,
      "outputs": []
    },
    {
      "cell_type": "code",
      "metadata": {
        "id": "SFUJ-arnCYLB",
        "colab_type": "code",
        "colab": {}
      },
      "source": [
        "(train_x,train_y),(test_x,test_y)=load_data.load_data()"
      ],
      "execution_count": 0,
      "outputs": []
    },
    {
      "cell_type": "code",
      "metadata": {
        "id": "UDcHlf3OC1l-",
        "colab_type": "code",
        "outputId": "d7015c1c-ecc2-48a6-855d-0b83b33a7475",
        "colab": {
          "base_uri": "https://localhost:8080/",
          "height": 34
        }
      },
      "source": [
        "test_x.shape"
      ],
      "execution_count": 16,
      "outputs": [
        {
          "output_type": "execute_result",
          "data": {
            "text/plain": [
              "(10000, 28, 28)"
            ]
          },
          "metadata": {
            "tags": []
          },
          "execution_count": 16
        }
      ]
    },
    {
      "cell_type": "code",
      "metadata": {
        "id": "CYBR07JFFTkD",
        "colab_type": "code",
        "colab": {}
      },
      "source": [
        "# callback\n",
        "class myCallbacks(tf.keras.callbacks.Callback):\n",
        "  def on_epoch_end(self,epoch,logs={}):\n",
        "    if (logs.get('accuracy')>0.93):\n",
        "      print ('Training stop accuracy achieved 93%')\n",
        "      self.model.stop_training = True"
      ],
      "execution_count": 0,
      "outputs": []
    },
    {
      "cell_type": "code",
      "metadata": {
        "id": "Ic7JadeMGb7Y",
        "colab_type": "code",
        "colab": {}
      },
      "source": [
        "callbacks=myCallbacks()"
      ],
      "execution_count": 0,
      "outputs": []
    },
    {
      "cell_type": "code",
      "metadata": {
        "id": "zJnQBZHTCnKF",
        "colab_type": "code",
        "colab": {}
      },
      "source": [
        "# Reshape and normalise\n",
        "train_x=train_x.reshape(60000, 28, 28, 1)\n",
        "train_x=train_x/255.0\n",
        "test_x=test_x.reshape(10000, 28, 28, 1)\n",
        "test_x=test_x/255.0"
      ],
      "execution_count": 0,
      "outputs": []
    },
    {
      "cell_type": "code",
      "metadata": {
        "id": "-5CghbpYDEiN",
        "colab_type": "code",
        "colab": {}
      },
      "source": [
        "# create model\n",
        "model= tf.keras.Sequential([tf.keras.layers.Conv2D(64,(3,3),activation='relu',input_shape=(28,28,1)),\n",
        "                            tf.keras.layers.MaxPool2D((2,2)),\n",
        "                            tf.keras.layers.Conv2D(64,(3,3),activation='relu'),\n",
        "                            tf.keras.layers.MaxPool2D((2,2)),\n",
        "                            tf.keras.layers.Flatten(),\n",
        "                            tf.keras.layers.Dense(256,activation='relu'),\n",
        "                            tf.keras.layers.Dense(10,activation='softmax')])"
      ],
      "execution_count": 0,
      "outputs": []
    },
    {
      "cell_type": "code",
      "metadata": {
        "id": "vwjPf7EOG9vd",
        "colab_type": "code",
        "outputId": "59a1bacb-1528-4e44-876a-abc571067676",
        "colab": {
          "base_uri": "https://localhost:8080/",
          "height": 391
        }
      },
      "source": [
        "model.summary()"
      ],
      "execution_count": 21,
      "outputs": [
        {
          "output_type": "stream",
          "text": [
            "Model: \"sequential_1\"\n",
            "_________________________________________________________________\n",
            "Layer (type)                 Output Shape              Param #   \n",
            "=================================================================\n",
            "conv2d_2 (Conv2D)            (None, 26, 26, 64)        640       \n",
            "_________________________________________________________________\n",
            "max_pooling2d_2 (MaxPooling2 (None, 13, 13, 64)        0         \n",
            "_________________________________________________________________\n",
            "conv2d_3 (Conv2D)            (None, 11, 11, 64)        36928     \n",
            "_________________________________________________________________\n",
            "max_pooling2d_3 (MaxPooling2 (None, 5, 5, 64)          0         \n",
            "_________________________________________________________________\n",
            "flatten_1 (Flatten)          (None, 1600)              0         \n",
            "_________________________________________________________________\n",
            "dense_2 (Dense)              (None, 256)               409856    \n",
            "_________________________________________________________________\n",
            "dense_3 (Dense)              (None, 10)                2570      \n",
            "=================================================================\n",
            "Total params: 449,994\n",
            "Trainable params: 449,994\n",
            "Non-trainable params: 0\n",
            "_________________________________________________________________\n"
          ],
          "name": "stdout"
        }
      ]
    },
    {
      "cell_type": "code",
      "metadata": {
        "id": "v4eOAz-2ENhy",
        "colab_type": "code",
        "colab": {}
      },
      "source": [
        "# Compile\n",
        "model.compile(optimizer='adam',loss='sparse_categorical_crossentropy',metrics=['accuracy'])"
      ],
      "execution_count": 0,
      "outputs": []
    },
    {
      "cell_type": "code",
      "metadata": {
        "id": "03ZFPJBpFL_H",
        "colab_type": "code",
        "outputId": "c3cc3285-1165-4488-8fa7-c68501416d78",
        "colab": {
          "base_uri": "https://localhost:8080/",
          "height": 204
        }
      },
      "source": [
        "history=model.fit(x=train_x, y=train_y,callbacks=[callbacks],batch_size=16,epochs=10)"
      ],
      "execution_count": 23,
      "outputs": [
        {
          "output_type": "stream",
          "text": [
            "Epoch 1/10\n",
            "3750/3750 [==============================] - 18s 5ms/step - loss: 0.4074 - accuracy: 0.8511\n",
            "Epoch 2/10\n",
            "3750/3750 [==============================] - 18s 5ms/step - loss: 0.2769 - accuracy: 0.8974\n",
            "Epoch 3/10\n",
            "3750/3750 [==============================] - 18s 5ms/step - loss: 0.2339 - accuracy: 0.9113\n",
            "Epoch 4/10\n",
            "3750/3750 [==============================] - 18s 5ms/step - loss: 0.1985 - accuracy: 0.9259\n",
            "Epoch 5/10\n",
            "3749/3750 [============================>.] - ETA: 0s - loss: 0.1718 - accuracy: 0.9345Training stop accuracy achieved 93%\n",
            "3750/3750 [==============================] - 18s 5ms/step - loss: 0.1719 - accuracy: 0.9345\n"
          ],
          "name": "stdout"
        }
      ]
    },
    {
      "cell_type": "code",
      "metadata": {
        "id": "hzJML_iyHTWU",
        "colab_type": "code",
        "outputId": "be2f110f-4a02-437e-bad8-b50b0f399578",
        "colab": {
          "base_uri": "https://localhost:8080/",
          "height": 51
        }
      },
      "source": [
        "model.evaluate(test_x,test_y) # 90% accuracy achieved"
      ],
      "execution_count": 24,
      "outputs": [
        {
          "output_type": "stream",
          "text": [
            "313/313 [==============================] - 1s 4ms/step - loss: 0.2719 - accuracy: 0.9070\n"
          ],
          "name": "stdout"
        },
        {
          "output_type": "execute_result",
          "data": {
            "text/plain": [
              "[0.27193424105644226, 0.9070000052452087]"
            ]
          },
          "metadata": {
            "tags": []
          },
          "execution_count": 24
        }
      ]
    },
    {
      "cell_type": "code",
      "metadata": {
        "id": "zATTd0iTHBvb",
        "colab_type": "code",
        "colab": {}
      },
      "source": [
        "import random"
      ],
      "execution_count": 0,
      "outputs": []
    },
    {
      "cell_type": "code",
      "metadata": {
        "id": "ExvFjKa7PVOz",
        "colab_type": "code",
        "colab": {}
      },
      "source": [
        "activation=tf.keras.models.Model(inputs= model.input,outputs =model.layers[0].output)\n",
        "f1=activation.predict(test_x[1].reshape(1,28,28,1))"
      ],
      "execution_count": 0,
      "outputs": []
    },
    {
      "cell_type": "code",
      "metadata": {
        "id": "3UJgfWDGTe3-",
        "colab_type": "code",
        "outputId": "7eb6150a-9b87-4b70-96e9-602717ce5e0d",
        "colab": {
          "base_uri": "https://localhost:8080/",
          "height": 282
        }
      },
      "source": [
        "plt.imshow(f1[0,:,:,1])"
      ],
      "execution_count": 26,
      "outputs": [
        {
          "output_type": "execute_result",
          "data": {
            "text/plain": [
              "<matplotlib.image.AxesImage at 0x7f92101b0160>"
            ]
          },
          "metadata": {
            "tags": []
          },
          "execution_count": 26
        },
        {
          "output_type": "display_data",
          "data": {
            "image/png": "[encoded data removed]",
            "text/plain": [
              "<Figure size 432x288 with 1 Axes>"
            ]
          },
          "metadata": {
            "tags": [],
            "needs_background": "light"
          }
        }
      ]
    },
    {
      "cell_type": "code",
      "metadata": {
        "id": "cdPE1o2iVp3C",
        "colab_type": "code",
        "outputId": "28f61735-d9b9-42b6-d35e-6a2ed2fa188c",
        "colab": {
          "base_uri": "https://localhost:8080/",
          "height": 34
        }
      },
      "source": [
        "# Visulaizing output of CNN layers\n",
        "test_y[:10]"
      ],
      "execution_count": 27,
      "outputs": [
        {
          "output_type": "execute_result",
          "data": {
            "text/plain": [
              "array([9, 2, 1, 1, 6, 1, 4, 6, 5, 7], dtype=uint8)"
            ]
          },
          "metadata": {
            "tags": []
          },
          "execution_count": 27
        }
      ]
    },
    {
      "cell_type": "code",
      "metadata": {
        "id": "DMsJlmQSdaBB",
        "colab_type": "code",
        "outputId": "267cbbff-2b29-4df3-becd-f5f174cdbc1e",
        "colab": {
          "base_uri": "https://localhost:8080/",
          "height": 136
        }
      },
      "source": [
        "# Now we will visualize output of our image data across different Conv and maxpool layers\n",
        "for layer in model.layers:\n",
        "  print(layer.output)"
      ],
      "execution_count": 28,
      "outputs": [
        {
          "output_type": "stream",
          "text": [
            "Tensor(\"conv2d_2/Identity:0\", shape=(None, 26, 26, 64), dtype=float32)\n",
            "Tensor(\"max_pooling2d_2/Identity:0\", shape=(None, 13, 13, 64), dtype=float32)\n",
            "Tensor(\"conv2d_3/Identity:0\", shape=(None, 11, 11, 64), dtype=float32)\n",
            "Tensor(\"max_pooling2d_3/Identity:0\", shape=(None, 5, 5, 64), dtype=float32)\n",
            "Tensor(\"flatten_1/Identity:0\", shape=(None, 1600), dtype=float32)\n",
            "Tensor(\"dense_2/Identity:0\", shape=(None, 256), dtype=float32)\n",
            "Tensor(\"dense_3/Identity:0\", shape=(None, 10), dtype=float32)\n"
          ],
          "name": "stdout"
        }
      ]
    },
    {
      "cell_type": "code",
      "metadata": {
        "id": "o41ypSOKfT_t",
        "colab_type": "code",
        "outputId": "1a09c334-93ff-4f93-82fe-2dc74bae0d65",
        "colab": {
          "base_uri": "https://localhost:8080/",
          "height": 34
        }
      },
      "source": [
        "print(model.input) # prints the input infromation"
      ],
      "execution_count": 29,
      "outputs": [
        {
          "output_type": "stream",
          "text": [
            "Tensor(\"conv2d_2_input:0\", shape=(None, 28, 28, 1), dtype=float32)\n"
          ],
          "name": "stdout"
        }
      ]
    },
    {
      "cell_type": "code",
      "metadata": {
        "id": "O39sGIArgBUj",
        "colab_type": "code",
        "outputId": "1100d82b-5970-49b1-bb98-d8c928aad738",
        "colab": {
          "base_uri": "https://localhost:8080/",
          "height": 123
        }
      },
      "source": [
        "fig,ax=plt.subplots(1,4)\n",
        "random_image = random.choice(range(1,10000)) # choose random image from test data\n",
        "conv_no = 1                                  # choose the first filter\n",
        "layers_output=[]                             \n",
        "for layer in model.layers:                   # model consist of different across network iterate through layers \n",
        "  layers_output.append(layer.output)         # store layer information in a list\n",
        "actiavtion_model=tf.keras.models.Model(inputs=model.input,outputs=layers_output)  # tf.keras as module 'models' which take input and pass across different layers\n",
        "# plotting the image\n",
        "for i in range(4):\n",
        "  f1=actiavtion_model.predict(test_x[random_image].reshape(1,28,28,1))[i] # predict across each layer\n",
        "  ax[i].imshow(f1[0,:,:,conv_no])                                         # plot the image at covolution 1 at different layers"
      ],
      "execution_count": 35,
      "outputs": [
        {
          "output_type": "display_data",
          "data": {
            "image/png": "[encoded data removed]",
            "text/plain": [
              "<Figure size 432x288 with 4 Axes>"
            ]
          },
          "metadata": {
            "tags": [],
            "needs_background": "light"
          }
        }
      ]
    },
    {
      "cell_type": "code",
      "metadata": {
        "id": "41h4sheWkQKa",
        "colab_type": "code",
        "colab": {}
      },
      "source": [
        ""
      ],
      "execution_count": 0,
      "outputs": []
    }
  ]
}